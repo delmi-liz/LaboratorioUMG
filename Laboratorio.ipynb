{
 "cells": [
  {
   "cell_type": "code",
   "execution_count": 2,
   "metadata": {},
   "outputs": [
    {
     "name": "stdout",
     "output_type": "stream",
     "text": [
      "hola a todos\n"
     ]
    }
   ],
   "source": [
    "###Ejercicio en clase \n",
    "a=\"hola a todos\"\n",
    "print(a)"
   ]
  },
  {
   "cell_type": "code",
   "execution_count": 3,
   "metadata": {},
   "outputs": [
    {
     "name": "stdout",
     "output_type": "stream",
     "text": [
      "Hola\n",
      "Como estan\n"
     ]
    }
   ],
   "source": [
    "a=\"\"\"Hola\n",
    "Como estan\"\"\"\n",
    "print(a)"
   ]
  },
  {
   "cell_type": "code",
   "execution_count": 5,
   "metadata": {},
   "outputs": [],
   "source": [
    "###Variables\n",
    "numero=4\n",
    "miString=\"Hola\" #Este es un comentario\n",
    "miBool=True"
   ]
  },
  {
   "cell_type": "code",
   "execution_count": 7,
   "metadata": {},
   "outputs": [
    {
     "name": "stdout",
     "output_type": "stream",
     "text": [
      "Hola a todos, mi edad es: 25\n"
     ]
    }
   ],
   "source": [
    "edad=25\n",
    "print(\"Hola a todos, mi edad es:\", edad)"
   ]
  },
  {
   "cell_type": "code",
   "execution_count": 10,
   "metadata": {},
   "outputs": [
    {
     "name": "stdout",
     "output_type": "stream",
     "text": [
      "Hola a todos mi nombre es: Delmi y mi edad es 25\n"
     ]
    }
   ],
   "source": [
    "nombre=\"Delmi\"\n",
    "print(f\"Hola a todos mi nombre es: {nombre} y mi edad es {edad}\")"
   ]
  },
  {
   "cell_type": "code",
   "execution_count": 13,
   "metadata": {},
   "outputs": [
    {
     "name": "stdout",
     "output_type": "stream",
     "text": [
      "SELECT * FROM empleado\n",
      "WHERE salario >= 25000 AND estado = finanzas \n"
     ]
    }
   ],
   "source": [
    "salario=25000\n",
    "dept=\"finanzas\"\n",
    "miQuery=\"\"\"SELECT * FROM empleado\n",
    "WHERE salario >= {} AND estado = {} \"\"\".format(salario,dept)\n",
    "print(miQuery)"
   ]
  },
  {
   "cell_type": "code",
   "execution_count": 2,
   "metadata": {},
   "outputs": [
    {
     "name": "stdout",
     "output_type": "stream",
     "text": [
      "Hola, Delmi, este es pynton\n"
     ]
    }
   ],
   "source": [
    "nombre= input(\"Ingrese su nombre:\")\n",
    "print(f\"Hola, {nombre}, este es pynton\")\n"
   ]
  },
  {
   "cell_type": "code",
   "execution_count": 4,
   "metadata": {},
   "outputs": [
    {
     "data": {
      "text/plain": [
       "12"
      ]
     },
     "execution_count": 4,
     "metadata": {},
     "output_type": "execute_result"
    }
   ],
   "source": [
    "###Strings\n",
    "\n",
    "a=\"Delmi Abrigo\"\n",
    "a[0:5]\n",
    "len(a)\n",
    "\n"
   ]
  },
  {
   "cell_type": "code",
   "execution_count": 5,
   "metadata": {},
   "outputs": [
    {
     "data": {
      "text/plain": [
       "True"
      ]
     },
     "execution_count": 5,
     "metadata": {},
     "output_type": "execute_result"
    }
   ],
   "source": [
    "###Control de Flujo\n",
    "43==34\n",
    "43==43"
   ]
  },
  {
   "cell_type": "code",
   "execution_count": 6,
   "metadata": {},
   "outputs": [
    {
     "name": "stdout",
     "output_type": "stream",
     "text": [
      "El numero es cero\n"
     ]
    }
   ],
   "source": [
    "numero= int(input(\"Ingrese un numero:\"))\n",
    "if(numero!=0):\n",
    "    print(\"El numero es cero\")\n",
    "else: \n",
    "    print(\"El numero es cero\")"
   ]
  },
  {
   "cell_type": "code",
   "execution_count": 7,
   "metadata": {},
   "outputs": [
    {
     "name": "stdout",
     "output_type": "stream",
     "text": [
      "El día es lunes\n"
     ]
    }
   ],
   "source": [
    "dia= int(input(\"Ingrese el numero de día:\"))\n",
    "if(dia>=1 and dia<=7):\n",
    "    if(dia==1):\n",
    "        print(\"El día es lunes\")\n",
    "    elif(dia==2):\n",
    "        print(\"El día es martes\")\n",
    "    elif(dia==3):\n",
    "        print(\"El día es miércoles\")\n",
    "    elif(dia==4):\n",
    "        print(\"El día es jueves\")\n",
    "    elif(dia==5):\n",
    "        print(\"El día es viernes\")\n",
    "    elif(dia==6):\n",
    "        print(\"El día es sábado\")\n",
    "    elif(dia==7):\n",
    "        print(\"El día es domingo\")\n",
    "    else:\n",
    "        print (\"El día es incorrecto\")"
   ]
  },
  {
   "cell_type": "code",
   "execution_count": 10,
   "metadata": {},
   "outputs": [],
   "source": [
    "###Listas\n",
    "\n",
    "lista=[10,20,30,40,50,60]\n",
    "# 1 es dinamica\n",
    "# 2 Almancena diferentes tipos de datos\n"
   ]
  },
  {
   "cell_type": "code",
   "execution_count": 13,
   "metadata": {},
   "outputs": [
    {
     "data": {
      "text/plain": [
       "6"
      ]
     },
     "execution_count": 13,
     "metadata": {},
     "output_type": "execute_result"
    }
   ],
   "source": [
    "lista[4]\n",
    "lista[4:]\n",
    "len(lista)"
   ]
  },
  {
   "cell_type": "code",
   "execution_count": 14,
   "metadata": {},
   "outputs": [],
   "source": [
    "lista.append('Data')"
   ]
  },
  {
   "cell_type": "code",
   "execution_count": 15,
   "metadata": {},
   "outputs": [],
   "source": [
    "lista.insert(3,'UMG')"
   ]
  },
  {
   "cell_type": "code",
   "execution_count": 16,
   "metadata": {},
   "outputs": [
    {
     "data": {
      "text/plain": [
       "[10, 20, 30, 'UMG', 40, 50, 60, 'Data']"
      ]
     },
     "execution_count": 16,
     "metadata": {},
     "output_type": "execute_result"
    }
   ],
   "source": [
    "lista"
   ]
  },
  {
   "cell_type": "code",
   "execution_count": 17,
   "metadata": {},
   "outputs": [],
   "source": [
    "###Eliminar elementos de una lista\n",
    "del lista [3] ###Eliminar por posición"
   ]
  },
  {
   "cell_type": "code",
   "execution_count": 18,
   "metadata": {},
   "outputs": [],
   "source": [
    "###Eliminar por valor\n",
    "lista.remove('Data')"
   ]
  },
  {
   "cell_type": "code",
   "execution_count": 19,
   "metadata": {},
   "outputs": [
    {
     "name": "stdout",
     "output_type": "stream",
     "text": [
      "Horas : 60 - Minutos : - Segundos : 1\n"
     ]
    }
   ],
   "source": [
    "Segundos= int(input(\"Ingrese los segundos:\"))\n",
    "\n",
    "Horas=Segundos % (60*60)\n",
    "Minutos=Segundos// (60)\n",
    "Segundos=Segundos % (60)\n",
    "\n",
    "print('Horas : {} - Minutos : - Segundos : {}' .format(Horas,Minutos,Segundos))"
   ]
  },
  {
   "cell_type": "code",
   "execution_count": 21,
   "metadata": {},
   "outputs": [
    {
     "name": "stdout",
     "output_type": "stream",
     "text": [
      "Tienes: 30 años -10 meses y -12 dias\n"
     ]
    }
   ],
   "source": [
    "from datetime import datetime\n",
    "dia= int(input(\"Introduce el día actual:\"))\n",
    "mes= int(input(\"Introduce el mes actual:\"))\n",
    "año= int(input(\"Intoduce el año actual:\"))\n",
    "\n",
    "dia_aniversario= int (input(\"Introduce el día de tu nacimiento\"))\n",
    "mes_aniversario= int(input(\"Introduce el mes de tu nacimiento:\"))\n",
    "año_aniversario=int(input(\"Introduce el año de tu nacimiento:\"))\n",
    "\n",
    "resultado_dia= dia - dia_aniversario\n",
    "resultado_mes= mes - mes_aniversario\n",
    "resultado_año = año - año_aniversario\n",
    "\n",
    "print(\"Tienes:\", resultado_año, \"años\", resultado_mes, \"meses\", \"y\", resultado_dia, \"dias\")\n",
    "\n",
    "\n",
    "\n"
   ]
  },
  {
   "cell_type": "code",
   "execution_count": null,
   "metadata": {},
   "outputs": [],
   "source": []
  },
  {
   "cell_type": "code",
   "execution_count": null,
   "metadata": {},
   "outputs": [],
   "source": []
  }
 ],
 "metadata": {
  "kernelspec": {
   "display_name": "CurosUMG",
   "language": "python",
   "name": "python3"
  },
  "language_info": {
   "codemirror_mode": {
    "name": "ipython",
    "version": 3
   },
   "file_extension": ".py",
   "mimetype": "text/x-python",
   "name": "python",
   "nbconvert_exporter": "python",
   "pygments_lexer": "ipython3",
   "version": "3.8.18"
  }
 },
 "nbformat": 4,
 "nbformat_minor": 2
}
